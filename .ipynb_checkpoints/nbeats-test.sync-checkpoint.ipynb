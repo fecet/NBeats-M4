{
 "cells": [
  {
   "cell_type": "code",
   "execution_count": 7,
   "id": "8ec408d0",
   "metadata": {
    "ExecuteTime": {
     "end_time": "2021-12-08T07:37:36.029781Z",
     "start_time": "2021-12-08T07:37:36.026836Z"
    }
   },
   "outputs": [],
   "source": [
    "\n",
    "import os\n",
    "import warnings\n",
    "\n",
    "import numpy as np\n",
    "import pandas as pd\n",
    "import matplotlib.pyplot as plt\n",
    "from lets_plot import *\n",
    "\n",
    "# Read a pandas DataFrame\n",
    "\n",
    "from nbeats_keras.model import NBeatsNet\n",
    "# from nbeats_pytorch.model import NBeatsNet as NBeatsPytorch\n",
    "\n",
    "warnings.filterwarnings(action='ignore', message='Setting attributes')"
   ]
  },
  {
   "cell_type": "code",
   "execution_count": 8,
   "id": "837bbb28",
   "metadata": {
    "ExecuteTime": {
     "end_time": "2021-12-08T07:37:37.066914Z",
     "start_time": "2021-12-08T07:37:37.055050Z"
    }
   },
   "outputs": [],
   "source": [
    "\n",
    "forecast_length = 5\n",
    "backcast_length = 3 * forecast_length\n",
    "batch_size = 10  # greater than 4 for viz\n",
    "\n",
    "milk = pd.read_csv('data/milk.csv', index_col=0, parse_dates=True)\n",
    "milk = milk.values.flatten()  # just keep np array here for simplicity.\n",
    "\n",
    "# data backcast/forecast generation.\n",
    "x, y = [], []\n",
    "for epoch in range(backcast_length, len(milk) - forecast_length):\n",
    "    x.append(milk[epoch - backcast_length:epoch])\n",
    "    y.append(milk[epoch:epoch + forecast_length])\n",
    "x = np.array(x)\n",
    "y = np.array(y)\n",
    "\n",
    "# split train/test.\n",
    "c = int(len(x) * 0.8)\n",
    "x_train, y_train = x[:c], y[:c]\n",
    "x_test, y_test = x[c:], y[c:]\n",
    "\n",
    "# normalization.\n",
    "norm_constant = np.max(x_train)\n",
    "x_train, y_train = x_train / norm_constant, y_train / norm_constant\n",
    "\n",
    "x_test, y_test = x_test / norm_constant, y_test / norm_constant"
   ]
  },
  {
   "cell_type": "code",
   "execution_count": 9,
   "id": "d9dbe9ed",
   "metadata": {
    "ExecuteTime": {
     "end_time": "2021-12-08T07:37:39.095911Z",
     "start_time": "2021-12-08T07:37:38.751261Z"
    }
   },
   "outputs": [],
   "source": [
    "\n",
    "net = NBeatsNet(\n",
    "    stack_types=(NBeatsNet.GENERIC_BLOCK, NBeatsNet.GENERIC_BLOCK),\n",
    "    forecast_length=forecast_length,\n",
    "    backcast_length=backcast_length,\n",
    "    hidden_layer_units=128,\n",
    "    )\n",
    "\n",
    "net.compile(loss='mse', optimizer='adam')"
   ]
  },
  {
   "cell_type": "code",
   "execution_count": 10,
   "id": "cb0b75f7",
   "metadata": {
    "ExecuteTime": {
     "end_time": "2021-12-08T07:37:43.759032Z",
     "start_time": "2021-12-08T07:37:40.551597Z"
    }
   },
   "outputs": [
    {
     "name": "stdout",
     "output_type": "stream",
     "text": [
      "Epoch 1/20\n",
      "12/12 [==============================] - 2s 28ms/step - loss: 0.0807 - val_loss: 0.0107\n",
      "Epoch 2/20\n",
      "12/12 [==============================] - 0s 6ms/step - loss: 0.0069 - val_loss: 0.0075\n",
      "Epoch 3/20\n",
      "12/12 [==============================] - 0s 7ms/step - loss: 0.0031 - val_loss: 0.0033\n",
      "Epoch 4/20\n",
      "12/12 [==============================] - 0s 6ms/step - loss: 0.0020 - val_loss: 0.0019\n",
      "Epoch 5/20\n",
      "12/12 [==============================] - 0s 7ms/step - loss: 0.0014 - val_loss: 0.0016\n",
      "Epoch 6/20\n",
      "12/12 [==============================] - 0s 7ms/step - loss: 0.0011 - val_loss: 0.0020\n",
      "Epoch 7/20\n",
      "12/12 [==============================] - 0s 7ms/step - loss: 0.0011 - val_loss: 0.0019\n",
      "Epoch 8/20\n",
      "12/12 [==============================] - 0s 6ms/step - loss: 0.0011 - val_loss: 0.0011\n",
      "Epoch 9/20\n",
      "12/12 [==============================] - 0s 10ms/step - loss: 9.7009e-04 - val_loss: 0.0022\n",
      "Epoch 10/20\n",
      "12/12 [==============================] - 0s 6ms/step - loss: 8.6677e-04 - val_loss: 0.0011\n",
      "Epoch 11/20\n",
      "12/12 [==============================] - 0s 6ms/step - loss: 7.0032e-04 - val_loss: 0.0015\n",
      "Epoch 12/20\n",
      "12/12 [==============================] - 0s 7ms/step - loss: 7.0962e-04 - val_loss: 9.9911e-04\n",
      "Epoch 13/20\n",
      "12/12 [==============================] - 0s 7ms/step - loss: 7.6712e-04 - val_loss: 6.5840e-04\n",
      "Epoch 14/20\n",
      "12/12 [==============================] - 0s 7ms/step - loss: 6.7622e-04 - val_loss: 0.0018\n",
      "Epoch 15/20\n",
      "12/12 [==============================] - 0s 7ms/step - loss: 7.4255e-04 - val_loss: 0.0010\n",
      "Epoch 16/20\n",
      "12/12 [==============================] - 0s 7ms/step - loss: 6.5974e-04 - val_loss: 4.9581e-04\n",
      "Epoch 17/20\n",
      "12/12 [==============================] - 0s 7ms/step - loss: 6.7504e-04 - val_loss: 9.4472e-04\n",
      "Epoch 18/20\n",
      "12/12 [==============================] - 0s 7ms/step - loss: 6.8571e-04 - val_loss: 0.0010\n",
      "Epoch 19/20\n",
      "12/12 [==============================] - 0s 7ms/step - loss: 7.2913e-04 - val_loss: 9.0817e-04\n",
      "Epoch 20/20\n",
      "12/12 [==============================] - 0s 7ms/step - loss: 7.5932e-04 - val_loss: 0.0016\n"
     ]
    }
   ],
   "source": [
    "\n",
    "history=net.fit(x_train, y_train,\n",
    "        validation_data=(x_test, y_test),\n",
    "        epochs=20,\n",
    "        batch_size=10\n",
    ")"
   ]
  },
  {
   "cell_type": "code",
   "execution_count": 11,
   "id": "20c0404b",
   "metadata": {
    "ExecuteTime": {
     "end_time": "2021-12-08T07:37:46.713840Z",
     "start_time": "2021-12-08T07:37:46.710381Z"
    }
   },
   "outputs": [
    {
     "data": {
      "text/html": [
       "\n",
       "            <div id=\"MiOKOI\"></div>\n",
       "            <script type=\"text/javascript\" data-lets-plot-script=\"library\">\n",
       "                if(!window.letsPlotCallQueue) {\n",
       "                    window.letsPlotCallQueue = [];\n",
       "                }; \n",
       "                window.letsPlotCall = function(f) {\n",
       "                    window.letsPlotCallQueue.push(f);\n",
       "                };\n",
       "                (function() {\n",
       "                    var script = document.createElement(\"script\");\n",
       "                    script.type = \"text/javascript\";\n",
       "                    script.src = \"https://cdn.jsdelivr.net/gh/JetBrains/lets-plot@v2.0.4/js-package/distr/lets-plot.min.js\";\n",
       "                    script.onload = function() {\n",
       "                        window.letsPlotCall = function(f) {f();};\n",
       "                        window.letsPlotCallQueue.forEach(function(f) {f();});\n",
       "                        window.letsPlotCallQueue = [];\n",
       "                        \n",
       "                    };\n",
       "                    script.onerror = function(event) {\n",
       "                        window.letsPlotCall = function(f) {};    // noop\n",
       "                        window.letsPlotCallQueue = [];\n",
       "                        var div = document.createElement(\"div\");\n",
       "                        div.style.color = 'darkred';\n",
       "                        div.textContent = 'Error loading Lets-Plot JS';\n",
       "                        document.getElementById(\"MiOKOI\").appendChild(div);\n",
       "                    };\n",
       "                    var e = document.getElementById(\"MiOKOI\");\n",
       "                    e.appendChild(script);\n",
       "                })()\n",
       "            </script>\n",
       "            "
      ]
     },
     "metadata": {},
     "output_type": "display_data"
    }
   ],
   "source": [
    "\n",
    "LetsPlot.setup_html()"
   ]
  },
  {
   "cell_type": "code",
   "execution_count": 14,
   "id": "c6f3ad5b",
   "metadata": {},
   "outputs": [
    {
     "data": {
      "text/html": [
       "   <div id=\"cXbphE\"></div>\n",
       "   <script type=\"text/javascript\" data-lets-plot-script=\"plot\">\n",
       "       (function() {\n",
       "           var plotSpec={\n",
       "\"data\":{\n",
       "\"x\":[0.0,1.0,2.0,3.0,4.0,5.0,6.0,7.0,8.0,9.0,10.0,11.0,12.0,13.0,14.0,15.0,16.0,17.0,18.0,19.0],\n",
       "\"y\":[0.5759133531073982,0.7319545645044122,0.8514665843743208,0.6959132089113457,0.16270365113568752,0.22658196916933226,0.12221398417121654,0.2466461302965618,0.3772024964025702,0.17163020135202278,0.29100869123039563,0.8645916501074439,0.29338998490276713,0.17497345108536477,0.8725910742392043,0.4840790568445037,0.20520672303834908,0.10568725573651494,0.9767845570275518,0.5852855639257173]\n",
       "},\n",
       "\"mapping\":{\n",
       "\"x\":\"x\",\n",
       "\"y\":\"y\"\n",
       "},\n",
       "\"data_meta\":{\n",
       "},\n",
       "\"kind\":\"plot\",\n",
       "\"scales\":[{\n",
       "\"name\":\"Legend text\",\n",
       "\"aesthetic\":\"color\"\n",
       "}],\n",
       "\"layers\":[{\n",
       "\"geom\":\"line\",\n",
       "\"mapping\":{\n",
       "\"color\":\"color\"\n",
       "},\n",
       "\"data_meta\":{\n",
       "},\n",
       "\"data\":{\n",
       "\"color\":[\"loss\",\"loss\",\"loss\",\"loss\",\"loss\",\"loss\",\"loss\",\"loss\",\"loss\",\"loss\",\"loss\",\"loss\",\"loss\",\"loss\",\"loss\",\"loss\",\"loss\",\"loss\",\"loss\",\"loss\"]\n",
       "}\n",
       "},{\n",
       "\"geom\":\"line\",\n",
       "\"data\":{\n",
       "\"x\":[0.0,1.0,2.0,3.0,4.0,5.0,6.0,7.0,8.0,9.0,10.0,11.0,12.0,13.0,14.0,15.0,16.0,17.0,18.0,19.0],\n",
       "\"y\":[0.5675224310739905,0.8259059711230865,0.6668270927306482,0.35800007092142627,0.7316171443116248,0.8117770638213939,0.8705602219205892,0.25619869131320006,0.03386346579212429,0.7182389669106295,0.7803409136999098,0.21083503441510731,0.18199634781101237,0.004743195669230205,0.25797143199332606,0.18946212132167506,0.7669644335935244,0.10964217876202409,0.16303943665846055,0.34648431253231116],\n",
       "\"color1\":[\"val_loss\",\"val_loss\",\"val_loss\",\"val_loss\",\"val_loss\",\"val_loss\",\"val_loss\",\"val_loss\",\"val_loss\",\"val_loss\",\"val_loss\",\"val_loss\",\"val_loss\",\"val_loss\",\"val_loss\",\"val_loss\",\"val_loss\",\"val_loss\",\"val_loss\",\"val_loss\"]\n",
       "},\n",
       "\"mapping\":{\n",
       "\"color\":\"color1\"\n",
       "},\n",
       "\"data_meta\":{\n",
       "}\n",
       "}]\n",
       "};\n",
       "           var plotContainer = document.getElementById(\"cXbphE\");\n",
       "           window.letsPlotCall(function() {{\n",
       "               LetsPlot.buildPlotFromProcessedSpecs(plotSpec, -1, -1, plotContainer);\n",
       "           }});\n",
       "       })();    \n",
       "   </script>"
      ],
      "text/plain": [
       "<lets_plot.plot.core.PlotSpec at 0x7fd35ff91160>"
      ]
     },
     "execution_count": 14,
     "metadata": {},
     "output_type": "execute_result"
    }
   ],
   "source": [
    "\n",
    "data1={\n",
    "    'x':np.arange(0,20),\n",
    "    'y':np.random.uniform(0,1,20)\n",
    "}\n",
    "data2={\n",
    "    'x':np.arange(0,20),\n",
    "    'y':np.random.uniform(0,1,20)\n",
    "}\n",
    "\n",
    "plot=(\n",
    "    ggplot(data1,aes('x','y'))+\n",
    "    geom_line(aes(color=['loss']*20))+\n",
    "    geom_line(aes(color=['val_loss']*20),data=data2)+\n",
    "    labs(color=\"Legend text\")\n",
    ")\n",
    "    # geom_point(aes(x=np.arange(0,20),y='val_loss'),color='red')+\n",
    "    # geom_line(aes(x=np.arange(0,20),y='val_loss'),color='red')\n",
    "\n",
    "# ggsave(plot, 'plot.html', path='/zsx', iframe=False)\n",
    "plot"
   ]
  },
  {
   "cell_type": "code",
   "execution_count": 10,
   "id": "6534510d",
   "metadata": {},
   "outputs": [
    {
     "name": "stdout",
     "output_type": "stream",
     "text": [
      "plot\n"
     ]
    }
   ],
   "source": [
    "\n",
    "print(\"plot\")"
   ]
  },
  {
   "cell_type": "markdown",
   "id": "17f01449",
   "metadata": {},
   "source": [
    "\n",
    "## Plots\n",
    "$x^2+2$"
   ]
  },
  {
   "cell_type": "markdown",
   "id": "6172c2a7",
   "metadata": {},
   "source": [
    "\n",
    "## sdf3\n",
    "$x^2$ "
   ]
  },
  {
   "cell_type": "code",
   "execution_count": 3,
   "id": "bd5890a4",
   "metadata": {
    "ExecuteTime": {
     "end_time": "2021-12-07T16:23:14.202632Z",
     "start_time": "2021-12-07T16:23:03.190497Z"
    }
   },
   "outputs": [],
   "source": [
    "\n",
    "import time\n",
    "\n",
    "time.sleep(11)"
   ]
  },
  {
   "cell_type": "code",
   "execution_count": 4,
   "id": "246558d7",
   "metadata": {
    "ExecuteTime": {
     "end_time": "2021-12-07T16:24:00.363569Z",
     "start_time": "2021-12-07T16:24:00.361220Z"
    }
   },
   "outputs": [],
   "source": [
    "\n",
    "a=1"
   ]
  }
 ],
 "metadata": {
  "kernelspec": {
   "display_name": "Python 3 (ipykernel)",
   "language": "python",
   "name": "python3"
  },
  "language_info": {
   "codemirror_mode": {
    "name": "ipython",
    "version": 3
   },
   "file_extension": ".py",
   "mimetype": "text/x-python",
   "name": "python",
   "nbconvert_exporter": "python",
   "pygments_lexer": "ipython3",
   "version": "3.8.8"
  },
  "notify_time": "5",
  "toc": {
   "base_numbering": 1,
   "nav_menu": {},
   "number_sections": true,
   "sideBar": true,
   "skip_h1_title": false,
   "title_cell": "Table of Contents",
   "title_sidebar": "Contents",
   "toc_cell": false,
   "toc_position": {},
   "toc_section_display": true,
   "toc_window_display": false
  },
  "varInspector": {
   "cols": {
    "lenName": 16,
    "lenType": 16,
    "lenVar": 40
   },
   "kernels_config": {
    "python": {
     "delete_cmd_postfix": "",
     "delete_cmd_prefix": "del ",
     "library": "var_list.py",
     "varRefreshCmd": "print(var_dic_list())"
    },
    "r": {
     "delete_cmd_postfix": ") ",
     "delete_cmd_prefix": "rm(",
     "library": "var_list.r",
     "varRefreshCmd": "cat(var_dic_list()) "
    }
   },
   "types_to_exclude": [
    "module",
    "function",
    "builtin_function_or_method",
    "instance",
    "_Feature"
   ],
   "window_display": false
  }
 },
 "nbformat": 4,
 "nbformat_minor": 5
}
