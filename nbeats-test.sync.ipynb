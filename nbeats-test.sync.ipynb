{
 "cells": [
  {
   "cell_type": "code",
   "execution_count": 2,
   "id": "8ec408d0",
   "metadata": {
    "ExecuteTime": {
     "end_time": "2021-12-09T15:44:16.307185Z",
     "start_time": "2021-12-09T15:44:12.987977Z"
    }
   },
   "outputs": [],
   "source": [
    "import os\n",
    "# os.environ[\"CUDA_VISIBLE_DEVICES\"]=\"2\""
   ]
  },
  {
   "cell_type": "code",
   "execution_count": 74,
   "id": "837bbb28",
   "metadata": {
    "ExecuteTime": {
     "end_time": "2021-12-08T09:25:25.945359Z",
     "start_time": "2021-12-08T09:25:25.935376Z"
    }
   },
   "outputs": [],
   "source": [
    "from lets_plot import *\n",
    "LetsPlot.setup_html()"
   ]
  },
  {
   "cell_type": "code",
   "execution_count": 1,
   "id": "10bede5a",
   "metadata": {
    "ExecuteTime": {
     "end_time": "2021-12-16T08:45:28.319698Z",
     "start_time": "2021-12-16T08:45:25.047404Z"
    }
   },
   "outputs": [],
   "source": [
    "# import warnings\n",
    "\n",
    "import numpy as np\n",
    "import pandas as pd\n",
    "import tensorflow as tf\n",
    "import tensorflow_io as tfio\n",
    "import tensorflow.experimental.numpy as tnp\n",
    "import csv\n",
    "from dataclasses import dataclass\n",
    "from pathlib import Path\n",
    "from itertools import product   \n",
    "from collections import OrderedDict\n",
    "from rich import inspect\n",
    "from functools import partial\n",
    "from tqdm.notebook import tqdm\n",
    "\n",
    "# Read a pandas DataFrame\n",
    "\n",
    "from nbeats_keras.model import NBeatsNet\n",
    "# from nbeats_pytorch.model import NBeatsNet as NBeatsPytorch\n",
    "\n",
    "# warnings.filterwarnings(action='ignore', message='Setting attributes')"
   ]
  },
  {
   "cell_type": "code",
   "execution_count": 125,
   "id": "81ffadf0",
   "metadata": {
    "ExecuteTime": {
     "end_time": "2021-12-08T09:55:13.803923Z",
     "start_time": "2021-12-08T09:55:13.447356Z"
    }
   },
   "outputs": [],
   "source": [
    "info_df=pd.read_csv(Path('.')/f'data/Dataset/M4-info.csv')"
   ]
  },
  {
   "cell_type": "code",
   "execution_count": 126,
   "id": "cb0b75f7",
   "metadata": {
    "ExecuteTime": {
     "end_time": "2021-12-08T09:55:18.375591Z",
     "start_time": "2021-12-08T09:55:15.433976Z"
    }
   },
   "outputs": [
    {
     "name": "stdout",
     "output_type": "stream",
     "text": [
      "Epoch 1/20\n",
      "12/12 [==============================] - 1s 5ms/step - loss: 0.0770 - root_mean_squared_error: 0.2776 - mean_absolute_error: 0.1826\n",
      "Epoch 2/20\n",
      "12/12 [==============================] - 0s 6ms/step - loss: 0.0085 - root_mean_squared_error: 0.0920 - mean_absolute_error: 0.0723\n",
      "Epoch 3/20\n",
      "12/12 [==============================] - 0s 5ms/step - loss: 0.0029 - root_mean_squared_error: 0.0537 - mean_absolute_error: 0.0420\n",
      "Epoch 4/20\n",
      "12/12 [==============================] - 0s 4ms/step - loss: 0.0019 - root_mean_squared_error: 0.0433 - mean_absolute_error: 0.0348\n",
      "Epoch 5/20\n",
      "12/12 [==============================] - 0s 5ms/step - loss: 0.0014 - root_mean_squared_error: 0.0372 - mean_absolute_error: 0.0299\n",
      "Epoch 6/20\n",
      "12/12 [==============================] - 0s 5ms/step - loss: 0.0013 - root_mean_squared_error: 0.0359 - mean_absolute_error: 0.0285\n",
      "Epoch 7/20\n",
      "12/12 [==============================] - 0s 5ms/step - loss: 0.0014 - root_mean_squared_error: 0.0374 - mean_absolute_error: 0.0297\n",
      "Epoch 8/20\n",
      "12/12 [==============================] - 0s 5ms/step - loss: 0.0013 - root_mean_squared_error: 0.0365 - mean_absolute_error: 0.0290\n",
      "Epoch 9/20\n",
      "12/12 [==============================] - 0s 4ms/step - loss: 0.0013 - root_mean_squared_error: 0.0356 - mean_absolute_error: 0.0282\n",
      "Epoch 10/20\n",
      "12/12 [==============================] - 0s 27ms/step - loss: 0.0012 - root_mean_squared_error: 0.0349 - mean_absolute_error: 0.0275 - val_loss: 0.0019 - val_root_mean_squared_error: 0.0441 - val_mean_absolute_error: 0.0362\n",
      "Epoch 11/20\n",
      "12/12 [==============================] - 0s 5ms/step - loss: 0.0012 - root_mean_squared_error: 0.0344 - mean_absolute_error: 0.0270\n",
      "Epoch 12/20\n",
      "12/12 [==============================] - 0s 5ms/step - loss: 0.0012 - root_mean_squared_error: 0.0340 - mean_absolute_error: 0.0267\n",
      "Epoch 13/20\n",
      "12/12 [==============================] - 0s 5ms/step - loss: 0.0011 - root_mean_squared_error: 0.0334 - mean_absolute_error: 0.0262\n",
      "Epoch 14/20\n",
      "12/12 [==============================] - 0s 4ms/step - loss: 0.0011 - root_mean_squared_error: 0.0329 - mean_absolute_error: 0.0257\n",
      "Epoch 15/20\n",
      "12/12 [==============================] - 0s 5ms/step - loss: 0.0011 - root_mean_squared_error: 0.0332 - mean_absolute_error: 0.0260\n",
      "Epoch 16/20\n",
      "12/12 [==============================] - 0s 4ms/step - loss: 0.0011 - root_mean_squared_error: 0.0330 - mean_absolute_error: 0.0258\n",
      "Epoch 17/20\n",
      "12/12 [==============================] - 0s 5ms/step - loss: 0.0011 - root_mean_squared_error: 0.0327 - mean_absolute_error: 0.0256\n",
      "Epoch 18/20\n",
      "12/12 [==============================] - 0s 4ms/step - loss: 0.0010 - root_mean_squared_error: 0.0323 - mean_absolute_error: 0.0253\n",
      "Epoch 19/20\n",
      "12/12 [==============================] - 0s 5ms/step - loss: 0.0010 - root_mean_squared_error: 0.0321 - mean_absolute_error: 0.0251\n",
      "Epoch 20/20\n",
      "12/12 [==============================] - 0s 8ms/step - loss: 0.0010 - root_mean_squared_error: 0.0318 - mean_absolute_error: 0.0250 - val_loss: 0.0015 - val_root_mean_squared_error: 0.0393 - val_mean_absolute_error: 0.0327\n"
     ]
    }
   ],
   "source": [
    "@dataclass()\n",
    "class M4Meta:\n",
    "    ids=info_df.M4id.values\n",
    "    groups=info_df.SP.values\n",
    "    seasonal_patterns = ['Yearly', 'Quarterly', 'Monthly', 'Weekly', 'Daily', 'Hourly']\n",
    "    horizons = [6, 8, 18, 13, 14, 48]\n",
    "    frequencies = [1, 4, 12, 1, 1, 24]\n",
    "    horizons_map = {\n",
    "        'Yearly': 6,\n",
    "        'Quarterly': 8,\n",
    "        'Monthly': 18,\n",
    "        'Weekly': 13,\n",
    "        'Daily': 14,\n",
    "        'Hourly': 48\n",
    "    }\n",
    "    frequency_map = {\n",
    "        'Yearly': 1,\n",
    "        'Quarterly': 4,\n",
    "        'Monthly': 12,\n",
    "        'Weekly': 1,\n",
    "        'Daily': 1,\n",
    "        'Hourly': 24\n",
    "    }\n",
    "    history_size = {\n",
    "    'Yearly': 1.5,\n",
    "    'Quarterly': 1.5,\n",
    "    'Monthly': 1.5,\n",
    "    'Weekly': 10,\n",
    "    'Daily': 10,\n",
    "    'Hourly': 10\n",
    "}\n",
    "    iterations = {\n",
    "    'Yearly': 15000,\n",
    "    'Quarterly': 15000,\n",
    "    'Monthly': 15000,\n",
    "    'Weekly': 5000,\n",
    "    'Daily': 5000,\n",
    "    'Hourly': 5000\n",
    "}\n",
    "    initial_learning_rate = {\n",
    "    'Yearly': 1e-4,\n",
    "    'Quarterly': 1e-4,\n",
    "    'Monthly': 1e-4,\n",
    "    'Weekly': 1e-4,\n",
    "    'Daily': 1e-4,\n",
    "    'Hourly': 5e-4\n",
    "}\n",
    "    batch_size = {\n",
    "    'Yearly': 4096*16,\n",
    "    'Quarterly': 4096*16,\n",
    "    'Monthly': 4096*64,\n",
    "    'Weekly': 4096*4,\n",
    "    'Daily': 4096*16,\n",
    "    'Hourly': 4096*16\n",
    "}"
   ]
  },
  {
   "cell_type": "code",
   "execution_count": 111,
   "id": "c6f3ad5b",
   "metadata": {
    "ExecuteTime": {
     "end_time": "2021-12-08T09:45:51.388462Z",
     "start_time": "2021-12-08T09:45:51.372633Z"
    },
    "scrolled": true
   },
   "outputs": [
    {
     "data": {
      "text/html": [
       "   <div id=\"Oqr0EI\"></div>\n",
       "   <script type=\"text/javascript\" data-lets-plot-script=\"plot\">\n",
       "       (function() {\n",
       "           var plotSpec={\n",
       "\"data\":{\n",
       "\"loss\":[0.22488157451152802,0.07979881763458252,0.0539698526263237,0.05898810923099518,0.051464032381772995,0.04006665199995041,0.0475161150097847,0.041782621294260025,0.03799520805478096,0.03826417401432991,0.03913535550236702,0.040859710425138474,0.03897658735513687,0.038418930023908615,0.032016582787036896,0.03524860739707947,0.03995928913354874,0.0381753146648407,0.033759038895368576,0.034813012927770615],\n",
       "\"val_loss\":[0.13098551332950592,0.06499884277582169,0.05897851288318634,0.06181585043668747,0.05570265278220177,0.04511455446481705,0.05273691192269325,0.04452698677778244,0.05241737514734268,0.04713945463299751,0.044876113533973694,0.046484462916851044,0.0350407212972641,0.04172322899103165,0.03566950559616089,0.04639270156621933,0.06222206726670265,0.03416416421532631,0.0425986722111702,0.04530948027968407],\n",
       "\"x\":[0,1,2,3,4,5,6,7,8,9,10,11,12,13,14,15,16,17,18,19]\n",
       "},\n",
       "\"mapping\":{\n",
       "\"x\":\"x\"\n",
       "},\n",
       "\"data_meta\":{\n",
       "},\n",
       "\"kind\":\"plot\",\n",
       "\"scales\":[{\n",
       "\"name\":\"Legend text\",\n",
       "\"aesthetic\":\"color\"\n",
       "}],\n",
       "\"layers\":[{\n",
       "\"geom\":\"line\",\n",
       "\"mapping\":{\n",
       "\"y\":\"loss\",\n",
       "\"color\":\"color\"\n",
       "},\n",
       "\"data_meta\":{\n",
       "},\n",
       "\"data\":{\n",
       "\"color\":[\"loss\",\"loss\",\"loss\",\"loss\",\"loss\",\"loss\",\"loss\",\"loss\",\"loss\",\"loss\",\"loss\",\"loss\",\"loss\",\"loss\",\"loss\",\"loss\",\"loss\",\"loss\",\"loss\",\"loss\"]\n",
       "}\n",
       "},{\n",
       "\"geom\":\"line\",\n",
       "\"mapping\":{\n",
       "\"y\":\"val_loss\",\n",
       "\"color\":\"color1\"\n",
       "},\n",
       "\"data_meta\":{\n",
       "},\n",
       "\"data\":{\n",
       "\"color1\":[\"val_loss\",\"val_loss\",\"val_loss\",\"val_loss\",\"val_loss\",\"val_loss\",\"val_loss\",\"val_loss\",\"val_loss\",\"val_loss\",\"val_loss\",\"val_loss\",\"val_loss\",\"val_loss\",\"val_loss\",\"val_loss\",\"val_loss\",\"val_loss\",\"val_loss\",\"val_loss\"]\n",
       "}\n",
       "}]\n",
       "};\n",
       "           var plotContainer = document.getElementById(\"Oqr0EI\");\n",
       "           window.letsPlotCall(function() {{\n",
       "               LetsPlot.buildPlotFromProcessedSpecs(plotSpec, -1, -1, plotContainer);\n",
       "           }});\n",
       "       })();    \n",
       "   </script>"
      ],
      "text/plain": [
       "<lets_plot.plot.core.PlotSpec at 0x7f1516d29640>"
      ]
     },
     "execution_count": 111,
     "metadata": {},
     "output_type": "execute_result"
    }
   ],
   "source": [
    "def timeseries_sampler(timeseries,insample_size,outsample_size,window_sampling_limit,batch_size):\n",
    "    insample = np.zeros((batch_size, insample_size),dtype=np.float32)\n",
    "    outsample = np.zeros((batch_size, outsample_size),dtype=np.float32)\n",
    "    sampled_ts_indices = np.random.randint(len(timeseries), size=batch_size)\n",
    "    # sampled_ts_indices = fixed_sampled_ts_indices\n",
    "    for i, sampled_index in enumerate(sampled_ts_indices):\n",
    "        sampled_timeseries = timeseries[sampled_index]\n",
    "        cut_point = np.random.randint(low=max(1, len(sampled_timeseries) - window_sampling_limit),\n",
    "                                      high=len(sampled_timeseries),\n",
    "                                      size=1)[0]\n",
    "        insample_window = sampled_timeseries[max(0, cut_point - insample_size):cut_point]\n",
    "        insample[i, -len(insample_window):] = insample_window\n",
    "        outsample_window = sampled_timeseries[\n",
    "                           cut_point:min(len(sampled_timeseries), cut_point + outsample_size)]\n",
    "        outsample[i, :len(outsample_window)] = outsample_window\n",
    "    yield insample,outsample\n",
    "\n",
    "def last_insample_window(timeseries, insample_size):\n",
    "    \"\"\"\n",
    "    The last window of insample size of all timeseries.\n",
    "    This function does not support batching and does not reshuffle timeseries.\n",
    "    :return: Last insample window of all timeseries. Shape \"timeseries, insample size\"\n",
    "    \"\"\"\n",
    "    insample = np.zeros((len(timeseries), insample_size))\n",
    "    for i, ts in enumerate(timeseries):\n",
    "        ts_last_window = ts[-insample_size:]\n",
    "        insample[i, -len(ts):] = ts_last_window\n",
    "    return insample\n",
    "\n",
    "def plot_from_history(history):\n",
    "    data={}\n",
    "    val_data={}\n",
    "    for key in history.history.keys():\n",
    "        if key.startswith('val'):\n",
    "            val_data[key]=history.history[key]\n",
    "            val_data[f'_{key}']=[key]*len(val_data[key])\n",
    "        else:\n",
    "            data[key]=history.history[key]\n",
    "            data[f'_{key}']=[key]*len(data[key])\n",
    "    data['epoch']=np.array(history.epoch)+1\n",
    "    epochs=len(data['epoch'])\n",
    "    val_epochs=len(val_data['val_loss'])\n",
    "    val_freq=epochs // val_epochs\n",
    "    val_data['epoch']=np.arange(val_freq,epochs,val_freq)\n",
    "    plot=(\n",
    "        ggplot(data,aes(x='epoch'))+\n",
    "        geom_line(aes(y='loss',color='_loss'))+\n",
    "        geom_line(aes(y='val_loss',color='_val_loss'),data=val_data)+\n",
    "        labs(color=\"Legend text\")+\n",
    "        ylim(0,0.3)\n",
    "    )\n",
    "\n",
    "    return plot"
   ]
  },
  {
   "cell_type": "markdown",
   "id": "53f1e660",
   "metadata": {
    "ExecuteTime": {
     "end_time": "2021-12-09T16:42:49.213762Z",
     "start_time": "2021-12-09T16:42:49.199002Z"
    }
   },
   "source": [
    "\n",
    "# losses"
   ]
  },
  {
   "cell_type": "code",
   "execution_count": 39,
   "id": "66337c89",
   "metadata": {
    "ExecuteTime": {
     "end_time": "2021-12-09T16:58:06.065477Z",
     "start_time": "2021-12-09T16:58:05.985225Z"
    }
   },
   "outputs": [],
   "source": [
    "\n",
    "def mape_loss(y_true,y_pred):\n",
    "    \"\"\"\n",
    "    MAPE loss as defined in: https://en.wikipedia.org/wiki/Mean_absolute_percentage_error\n",
    "    :param forecast: Forecast values. Shape: batch, time\n",
    "    :param target: Target values. Shape: batch, time\n",
    "    :param mask: 0/1 mask. Shape: batch, time\n",
    "    :return: Loss value\n",
    "    \"\"\"\n",
    "    # mask=tf.cast(~tnp.isnan(y_true),tf.float32)\n",
    "    condition=tf.cast(y_true,tf.bool)\n",
    "    weights=tf.where(condition,1./y_true,.0)\n",
    "    # weights = 1/y_true*mask\n",
    "    return 100*tnp.nanmean(tf.abs((y_pred - y_true) * weights))\n",
    "\n",
    "def smape_loss(y_true,y_pred):\n",
    "    \"\"\"\n",
    "    sMAPE loss as defined in \"Appendix A\" of\n",
    "    http://www.forecastingprinciples.com/files/pdf/Makridakia-The%20M3%20Competition.pdf\n",
    "    :param forecast: Forecast values. Shape: batch, time\n",
    "    :param target: Target values. Shape: batch, time\n",
    "    :param mask: 0/1 mask. Shape: batch, time\n",
    "    :return: Loss value\n",
    "    \"\"\"\n",
    "    # mask=tf.where(y_true,1.,0.)\n",
    "    mask=tf.cast(y_true,tf.bool)\n",
    "    mask=tf.cast(mask,tf.float32)\n",
    "    sym_sum= tf.abs(y_true)+tf.abs(y_pred) \n",
    "    condition=tf.cast(sym_sum,tf.bool)\n",
    "    weights=tf.where(condition,1./( sym_sum + 1e-8),0.0)\n",
    "    return 200 * tnp.nanmean(tf.abs(y_pred - y_true)*weights * mask)\n",
    "\n",
    "# def mase_loss(insample: t.Tensor, freq: int,\n",
    "#               forecast: t.Tensor, target: t.Tensor, mask: t.Tensor) -> t.float:\n",
    "#     \"\"\"\n",
    "#     MASE loss as defined in \"Scaled Errors\" https://robjhyndman.com/papers/mase.pdf\n",
    "#     :param insample: Insample values. Shape: batch, time_i\n",
    "#     :param freq: Frequency value\n",
    "#     :param forecast: Forecast values. Shape: batch, time_o\n",
    "#     :param target: Target values. Shape: batch, time_o\n",
    "#     :param mask: 0/1 mask. Shape: batch, time_o\n",
    "#     :return: Loss value\n",
    "#     \"\"\"\n",
    "#     masep = t.mean(t.abs(insample[:, freq:] - insample[:, :-freq]), dim=1)\n",
    "#     masked_masep_inv = divide_no_nan(mask, masep[:, None])\n",
    "#     return t.mean(t.abs(target - forecast) * masked_masep_inv)"
   ]
  },
  {
   "cell_type": "code",
   "execution_count": 40,
   "id": "4174f0cd",
   "metadata": {
    "ExecuteTime": {
     "end_time": "2021-12-09T16:58:07.071712Z",
     "start_time": "2021-12-09T16:58:07.059874Z"
    }
   },
   "outputs": [
    {
     "data": {
      "text/plain": [
       "array([[1101.5, 1111.4, 1114.1, ..., 1115.7, 1119.4, 1118.6],\n",
       "       [2918.8, 2933.1, 2920.2, ..., 2996.8, 3035.7, 3023.7],\n",
       "       [1000.3,  997.5,  994.7, ...,  952.7,  949.9,  947.1],\n",
       "       ...,\n",
       "       [1709. , 1750. , 1763. , ..., 1783. , 1783. , 1794. ],\n",
       "       [1405.8, 1411.6, 1404.1, ..., 1475.3, 1459.8, 1442.3],\n",
       "       [9478.4, 9539.5, 9446.4, ..., 9141.4, 8993.8, 9022.7]])"
      ]
     },
     "execution_count": 40,
     "metadata": {},
     "output_type": "execute_result"
    }
   ],
   "source": [
    "\n",
    "LOSSES={\n",
    "    'mape':mape_loss,\n",
    "    'smape':smape_loss\n",
    "}\n",
    "\n",
    "\n",
    "def group_values(values: np.ndarray, groups: np.ndarray, group_name: str) -> np.ndarray:\n",
    "    \"\"\"\n",
    "    Filter values array by group indices and clean it from NaNs.\n",
    "    :param values: Values to filter.\n",
    "    :param groups: Timeseries groups.\n",
    "    :param group_name: Group name to filter by.\n",
    "    :return: Filtered and cleaned timeseries.\n",
    "    \"\"\"\n",
    "    return np.array([v[~np.isnan(v)] for v in values[groups == group_name]])\n",
    "def summarize_groups(scores):\n",
    "    \"\"\"\n",
    "    Re-group scores respecting M4 rules.\n",
    "    :param scores: Scores per group.\n",
    "    :return: Grouped scores.\n",
    "    \"\"\"\n",
    "    scores_summary = OrderedDict()\n",
    "\n",
    "    def group_count(group_name):\n",
    "        return len(np.where(M4Meta.groups == group_name)[0])\n",
    "\n",
    "    weighted_score = {}\n",
    "    for g in ['Yearly', 'Quarterly', 'Monthly']:\n",
    "        weighted_score[g] = scores[g] * group_count(g)\n",
    "        scores_summary[g] = scores[g]\n",
    "\n",
    "    others_score = 0\n",
    "    others_count = 0\n",
    "    for g in ['Weekly', 'Daily', 'Hourly']:\n",
    "        others_score += scores[g] * group_count(g)\n",
    "        others_count += group_count(g)\n",
    "    weighted_score['Others'] = others_score\n",
    "    scores_summary['Others'] = others_score / others_count\n",
    "\n",
    "    average = np.sum(list(weighted_score.values())) / len(M4Meta.groups)\n",
    "    scores_summary['Average'] = average\n",
    "\n",
    "    return scores_summary\n",
    "\n",
    "def evaluate_result(forecast,targets):\n",
    "    forecast = np.array([v[~np.isnan(v)] for v in forecast],dtype='object')\n",
    "    results={\n",
    "    freq:smape_loss(\n",
    "        group_values(targets,M4Meta.groups,freq),\n",
    "        group_values(forecast,M4Meta.groups,freq)\n",
    "    ).numpy() for freq in M4Meta.seasonal_patterns\n",
    "    }\n",
    "    return pd.DataFrame(summarize_groups(results),index=['smape'])"
   ]
  },
  {
   "cell_type": "code",
   "execution_count": 35,
   "id": "fc451b32",
   "metadata": {
    "ExecuteTime": {
     "end_time": "2021-12-09T16:57:57.538231Z",
     "start_time": "2021-12-09T16:57:57.340685Z"
    }
   },
   "outputs": [
    {
     "data": {
      "text/plain": [
       "<AxesSubplot:>"
      ]
     },
     "execution_count": 35,
     "metadata": {},
     "output_type": "execute_result"
    },
    {
     "data": {
      "image/png": "[encoded data removed]",
      "text/plain": [
       "<Figure size 432x288 with 1 Axes>"
      ]
     },
     "metadata": {
      "needs_background": "light"
     },
     "output_type": "display_data"
    }
   ],
   "source": [
    "\n",
    "def read_data(freq):\n",
    "    pwd=Path('.')\n",
    "    filename_train = pwd/Path(f'data/Dataset/Train/{freq}-train.csv')\n",
    "    df=pd.read_csv(filename_train)\n",
    "    tss=df.drop('V1',axis=1).values.copy(order='C').astype(np.float32)\n",
    "    def dropna(x):\n",
    "        return x[~np.isnan(x)]\n",
    "\n",
    "    timeseries=[dropna(ts) for ts in tss]\n",
    "    filename_test = pwd/Path(f'data/Dataset/Test/{freq}-test.csv')\n",
    "    df=pd.read_csv(filename_test)\n",
    "    targets=df.drop('V1',axis=1).values.copy(order='C').astype(np.float32)\n",
    "    return timeseries,targets\n",
    "\n",
    "def generate_dataset(timeseries,targets,insample_size,outsample_size,window_sampling_limit,batch_size):\n",
    "    # train_ds=tf.data.Dataset.from_generator(\n",
    "    #     partial(timeseries_sampler,timeseries),\n",
    "    #     args=(tf.constant(insample_size),tf.constant(outsample_size),tf.constant(window_sampling_limit),tf.constant(batch_size)),\n",
    "    #     output_signature=(\n",
    "    #         tf.TensorSpec(shape=(batch_size,insample_size)),\n",
    "    #         tf.TensorSpec(shape=(batch_size,outsample_size)),\n",
    "    #     )\n",
    "    # )\n",
    "\n",
    "    insamples=[]\n",
    "    outsamples=[]\n",
    "    for sampled_timeseries in timeseries:\n",
    "        # windowsed_tss=np.lib.stride_tricks.sliding_window_view(ts,insample_size+outsample_size)\n",
    "        # cut_point=int(min(window_sampling_limit,len(ts)))\n",
    "        # insample=windowsed_tss[cut_point:,:insample_size]\n",
    "        # outsample=windowsed_tss[cut_point:,-outsample_size:]\n",
    "        # insamples.append(insample)\n",
    "        # outsamples.append(outsample)\n",
    "        gen_size=min(window_sampling_limit,len(sampled_timeseries)-1)\n",
    "        insample = np.zeros((gen_size,insample_size),dtype=np.float32)\n",
    "        outsample = np.zeros((gen_size,outsample_size),dtype=np.float32)\n",
    "        for idx,cut_point in enumerate(np.arange(\n",
    "                        start=max(1, len(sampled_timeseries) - window_sampling_limit),\n",
    "                        stop=len(sampled_timeseries),\n",
    "                        dtype=int)):\n",
    "            insample_window = sampled_timeseries[max(0, cut_point - insample_size):cut_point]\n",
    "            insample[idx,-len(insample_window):] = insample_window\n",
    "            outsample_window = sampled_timeseries[\n",
    "                               cut_point:min(len(sampled_timeseries), cut_point + outsample_size)]\n",
    "            outsample[idx,:len(outsample_window)] = outsample_window\n",
    "        insamples.append(insample)\n",
    "        outsamples.append(outsample)\n",
    "\n",
    "    x_train=np.concatenate(insamples)\n",
    "    y_train=np.concatenate(outsamples)\n",
    "    train_ds=tfio.experimental.IODataset.from_numpy(( x_train,y_train )).shuffle(window_sampling_limit).batch(batch_size)\n",
    "\n",
    "    x_test=last_insample_window(timeseries,insample_size)\n",
    "    y_test=targets\n",
    "    test_ds=tfio.experimental.IODataset.from_numpy(( x_test,y_test )).batch(batch_size)\n",
    "\n",
    "    return train_ds,test_ds\n",
    "\n",
    "\n",
    "def create_model(insample_size,outsample_size):\n",
    "    net = NBeatsNet(\n",
    "        # stack_types=(NBeatsNet.GENERIC_BLOCK, NBeatsNet.GENERIC_BLOCK),\n",
    "        stack_types=(NBeatsNet.TREND_BLOCK, NBeatsNet.SEASONALITY_BLOCK),\n",
    "        nb_blocks_per_stack=3,\n",
    "        forecast_length=outsample_size,\n",
    "        backcast_length=insample_size,\n",
    "        hidden_layer_units=512,\n",
    "        thetas_dim=(4,4),\n",
    "        share_weights_in_stack=True,\n",
    "        nb_harmonics=1\n",
    "        )\n",
    "    return net\n",
    "\n",
    "def trainer(train_ds,test_ds,loss,model,epoch,val_freq=100,verbose=0,initial_learning_rate=0.001):\n",
    "    net=model\n",
    "    lr_schedule = tf.keras.optimizers.schedules.ExponentialDecay(\n",
    "        initial_learning_rate,\n",
    "        decay_steps=epoch // 3,\n",
    "        decay_rate=0.5,\n",
    "        staircase=True)\n",
    "\n",
    "    es_callback=tf.keras.callbacks.EarlyStopping(\n",
    "        monitor='smape_loss', patience=20,\n",
    "        restore_best_weights=True,\n",
    "        verbose=1\n",
    "    )\n",
    "    net.compile(loss=LOSSES[loss], \n",
    "        # optimizer='adam',\n",
    "        optimizer=tf.keras.optimizers.Adam(\n",
    "            learning_rate=lr_schedule,\n",
    "            clipnorm=1.0\n",
    "        ),\n",
    "        metrics=[LOSSES['smape']]\n",
    "    )\n",
    "    # iterrations=5000\n",
    "    history=net.fit(\n",
    "        x=train_ds.cache(),\n",
    "        epochs=epoch,\n",
    "        validation_data=test_ds,\n",
    "        validation_freq=val_freq,\n",
    "        verbose=verbose,\n",
    "        callbacks=[es_callback]\n",
    "    )\n",
    "\n",
    "    return net, history"
   ]
  },
  {
   "cell_type": "code",
   "execution_count": 31,
   "id": "c0378a3a",
   "metadata": {
    "ExecuteTime": {
     "end_time": "2021-12-09T16:57:23.283645Z",
     "start_time": "2021-12-09T16:57:23.243165Z"
    }
   },
   "outputs": [
    {
     "data": {
      "text/html": [
       "<div>\n",
       "<style scoped>\n",
       "    .dataframe tbody tr th:only-of-type {\n",
       "        vertical-align: middle;\n",
       "    }\n",
       "\n",
       "    .dataframe tbody tr th {\n",
       "        vertical-align: top;\n",
       "    }\n",
       "\n",
       "    .dataframe thead th {\n",
       "        text-align: right;\n",
       "    }\n",
       "</style>\n",
       "<table border=\"1\" class=\"dataframe\">\n",
       "  <thead>\n",
       "    <tr style=\"text-align: right;\">\n",
       "      <th></th>\n",
       "      <th>V1</th>\n",
       "      <th>V2</th>\n",
       "      <th>V3</th>\n",
       "      <th>V4</th>\n",
       "      <th>V5</th>\n",
       "      <th>V6</th>\n",
       "      <th>V7</th>\n",
       "      <th>V8</th>\n",
       "      <th>V9</th>\n",
       "      <th>V10</th>\n",
       "      <th>...</th>\n",
       "      <th>V40</th>\n",
       "      <th>V41</th>\n",
       "      <th>V42</th>\n",
       "      <th>V43</th>\n",
       "      <th>V44</th>\n",
       "      <th>V45</th>\n",
       "      <th>V46</th>\n",
       "      <th>V47</th>\n",
       "      <th>V48</th>\n",
       "      <th>V49</th>\n",
       "    </tr>\n",
       "  </thead>\n",
       "  <tbody>\n",
       "    <tr>\n",
       "      <th>0</th>\n",
       "      <td>H1</td>\n",
       "      <td>619.0</td>\n",
       "      <td>565.0</td>\n",
       "      <td>532.0</td>\n",
       "      <td>495.0</td>\n",
       "      <td>481.0</td>\n",
       "      <td>467.0</td>\n",
       "      <td>473.0</td>\n",
       "      <td>488.0</td>\n",
       "      <td>501.0</td>\n",
       "      <td>...</td>\n",
       "      <td>812.0</td>\n",
       "      <td>836.0</td>\n",
       "      <td>838.0</td>\n",
       "      <td>829.0</td>\n",
       "      <td>807.0</td>\n",
       "      <td>785.0</td>\n",
       "      <td>756.0</td>\n",
       "      <td>719.0</td>\n",
       "      <td>703.0</td>\n",
       "      <td>659.0</td>\n",
       "    </tr>\n",
       "    <tr>\n",
       "      <th>1</th>\n",
       "      <td>H2</td>\n",
       "      <td>2771.0</td>\n",
       "      <td>2396.0</td>\n",
       "      <td>2189.0</td>\n",
       "      <td>1984.0</td>\n",
       "      <td>1872.0</td>\n",
       "      <td>1843.0</td>\n",
       "      <td>1828.0</td>\n",
       "      <td>1872.0</td>\n",
       "      <td>1952.0</td>\n",
       "      <td>...</td>\n",
       "      <td>3018.0</td>\n",
       "      <td>3206.0</td>\n",
       "      <td>3356.0</td>\n",
       "      <td>3499.0</td>\n",
       "      <td>3550.0</td>\n",
       "      <td>3558.0</td>\n",
       "      <td>3488.0</td>\n",
       "      <td>3224.0</td>\n",
       "      <td>3054.0</td>\n",
       "      <td>2918.0</td>\n",
       "    </tr>\n",
       "    <tr>\n",
       "      <th>2</th>\n",
       "      <td>H3</td>\n",
       "      <td>1455.0</td>\n",
       "      <td>1376.0</td>\n",
       "      <td>1235.0</td>\n",
       "      <td>1101.0</td>\n",
       "      <td>1003.0</td>\n",
       "      <td>943.0</td>\n",
       "      <td>905.0</td>\n",
       "      <td>886.0</td>\n",
       "      <td>910.0</td>\n",
       "      <td>...</td>\n",
       "      <td>1457.0</td>\n",
       "      <td>1529.0</td>\n",
       "      <td>1627.0</td>\n",
       "      <td>1701.0</td>\n",
       "      <td>1754.0</td>\n",
       "      <td>1791.0</td>\n",
       "      <td>1819.0</td>\n",
       "      <td>1791.0</td>\n",
       "      <td>1758.0</td>\n",
       "      <td>1679.0</td>\n",
       "    </tr>\n",
       "    <tr>\n",
       "      <th>3</th>\n",
       "      <td>H4</td>\n",
       "      <td>5327.0</td>\n",
       "      <td>5051.0</td>\n",
       "      <td>4683.0</td>\n",
       "      <td>4319.0</td>\n",
       "      <td>4049.0</td>\n",
       "      <td>3847.0</td>\n",
       "      <td>3712.0</td>\n",
       "      <td>3639.0</td>\n",
       "      <td>3652.0</td>\n",
       "      <td>...</td>\n",
       "      <td>5337.0</td>\n",
       "      <td>5675.0</td>\n",
       "      <td>5926.0</td>\n",
       "      <td>6159.0</td>\n",
       "      <td>6313.0</td>\n",
       "      <td>6072.0</td>\n",
       "      <td>5612.0</td>\n",
       "      <td>5220.0</td>\n",
       "      <td>4895.0</td>\n",
       "      <td>4793.0</td>\n",
       "    </tr>\n",
       "    <tr>\n",
       "      <th>4</th>\n",
       "      <td>H5</td>\n",
       "      <td>3823.0</td>\n",
       "      <td>3501.0</td>\n",
       "      <td>3039.0</td>\n",
       "      <td>2613.0</td>\n",
       "      <td>2312.0</td>\n",
       "      <td>2079.0</td>\n",
       "      <td>1938.0</td>\n",
       "      <td>1839.0</td>\n",
       "      <td>1821.0</td>\n",
       "      <td>...</td>\n",
       "      <td>2345.0</td>\n",
       "      <td>2529.0</td>\n",
       "      <td>2737.0</td>\n",
       "      <td>3028.0</td>\n",
       "      <td>3292.0</td>\n",
       "      <td>3453.0</td>\n",
       "      <td>3574.0</td>\n",
       "      <td>3522.0</td>\n",
       "      <td>3338.0</td>\n",
       "      <td>3041.0</td>\n",
       "    </tr>\n",
       "    <tr>\n",
       "      <th>...</th>\n",
       "      <td>...</td>\n",
       "      <td>...</td>\n",
       "      <td>...</td>\n",
       "      <td>...</td>\n",
       "      <td>...</td>\n",
       "      <td>...</td>\n",
       "      <td>...</td>\n",
       "      <td>...</td>\n",
       "      <td>...</td>\n",
       "      <td>...</td>\n",
       "      <td>...</td>\n",
       "      <td>...</td>\n",
       "      <td>...</td>\n",
       "      <td>...</td>\n",
       "      <td>...</td>\n",
       "      <td>...</td>\n",
       "      <td>...</td>\n",
       "      <td>...</td>\n",
       "      <td>...</td>\n",
       "      <td>...</td>\n",
       "      <td>...</td>\n",
       "    </tr>\n",
       "    <tr>\n",
       "      <th>409</th>\n",
       "      <td>H410</td>\n",
       "      <td>48.0</td>\n",
       "      <td>43.0</td>\n",
       "      <td>37.0</td>\n",
       "      <td>31.0</td>\n",
       "      <td>32.0</td>\n",
       "      <td>40.0</td>\n",
       "      <td>116.0</td>\n",
       "      <td>164.0</td>\n",
       "      <td>135.0</td>\n",
       "      <td>...</td>\n",
       "      <td>163.0</td>\n",
       "      <td>187.0</td>\n",
       "      <td>180.0</td>\n",
       "      <td>175.0</td>\n",
       "      <td>171.0</td>\n",
       "      <td>170.0</td>\n",
       "      <td>131.0</td>\n",
       "      <td>124.0</td>\n",
       "      <td>167.0</td>\n",
       "      <td>126.0</td>\n",
       "    </tr>\n",
       "    <tr>\n",
       "      <th>410</th>\n",
       "      <td>H411</td>\n",
       "      <td>38.0</td>\n",
       "      <td>20.0</td>\n",
       "      <td>21.0</td>\n",
       "      <td>21.0</td>\n",
       "      <td>33.0</td>\n",
       "      <td>70.0</td>\n",
       "      <td>162.0</td>\n",
       "      <td>263.0</td>\n",
       "      <td>217.0</td>\n",
       "      <td>...</td>\n",
       "      <td>145.0</td>\n",
       "      <td>170.0</td>\n",
       "      <td>156.0</td>\n",
       "      <td>122.0</td>\n",
       "      <td>116.0</td>\n",
       "      <td>86.0</td>\n",
       "      <td>77.0</td>\n",
       "      <td>63.0</td>\n",
       "      <td>62.0</td>\n",
       "      <td>74.0</td>\n",
       "    </tr>\n",
       "    <tr>\n",
       "      <th>411</th>\n",
       "      <td>H412</td>\n",
       "      <td>27.0</td>\n",
       "      <td>19.0</td>\n",
       "      <td>14.0</td>\n",
       "      <td>17.0</td>\n",
       "      <td>15.0</td>\n",
       "      <td>23.0</td>\n",
       "      <td>47.0</td>\n",
       "      <td>92.0</td>\n",
       "      <td>94.0</td>\n",
       "      <td>...</td>\n",
       "      <td>80.0</td>\n",
       "      <td>87.0</td>\n",
       "      <td>106.0</td>\n",
       "      <td>79.0</td>\n",
       "      <td>81.0</td>\n",
       "      <td>78.0</td>\n",
       "      <td>54.0</td>\n",
       "      <td>53.0</td>\n",
       "      <td>72.0</td>\n",
       "      <td>40.0</td>\n",
       "    </tr>\n",
       "    <tr>\n",
       "      <th>412</th>\n",
       "      <td>H413</td>\n",
       "      <td>34.0</td>\n",
       "      <td>26.0</td>\n",
       "      <td>19.0</td>\n",
       "      <td>14.0</td>\n",
       "      <td>14.0</td>\n",
       "      <td>17.0</td>\n",
       "      <td>24.0</td>\n",
       "      <td>23.0</td>\n",
       "      <td>19.0</td>\n",
       "      <td>...</td>\n",
       "      <td>92.0</td>\n",
       "      <td>103.0</td>\n",
       "      <td>108.0</td>\n",
       "      <td>101.0</td>\n",
       "      <td>86.0</td>\n",
       "      <td>99.0</td>\n",
       "      <td>88.0</td>\n",
       "      <td>47.0</td>\n",
       "      <td>41.0</td>\n",
       "      <td>34.0</td>\n",
       "    </tr>\n",
       "    <tr>\n",
       "      <th>413</th>\n",
       "      <td>H414</td>\n",
       "      <td>15.0</td>\n",
       "      <td>12.0</td>\n",
       "      <td>11.0</td>\n",
       "      <td>17.0</td>\n",
       "      <td>31.0</td>\n",
       "      <td>67.0</td>\n",
       "      <td>76.0</td>\n",
       "      <td>94.0</td>\n",
       "      <td>95.0</td>\n",
       "      <td>...</td>\n",
       "      <td>108.0</td>\n",
       "      <td>79.0</td>\n",
       "      <td>114.0</td>\n",
       "      <td>112.0</td>\n",
       "      <td>93.0</td>\n",
       "      <td>82.0</td>\n",
       "      <td>65.0</td>\n",
       "      <td>49.0</td>\n",
       "      <td>37.0</td>\n",
       "      <td>24.0</td>\n",
       "    </tr>\n",
       "  </tbody>\n",
       "</table>\n",
       "<p>414 rows × 49 columns</p>\n",
       "</div>"
      ],
      "text/plain": [
       "       V1      V2      V3      V4      V5      V6      V7      V8      V9  \\\n",
       "0      H1   619.0   565.0   532.0   495.0   481.0   467.0   473.0   488.0   \n",
       "1      H2  2771.0  2396.0  2189.0  1984.0  1872.0  1843.0  1828.0  1872.0   \n",
       "2      H3  1455.0  1376.0  1235.0  1101.0  1003.0   943.0   905.0   886.0   \n",
       "3      H4  5327.0  5051.0  4683.0  4319.0  4049.0  3847.0  3712.0  3639.0   \n",
       "4      H5  3823.0  3501.0  3039.0  2613.0  2312.0  2079.0  1938.0  1839.0   \n",
       "..    ...     ...     ...     ...     ...     ...     ...     ...     ...   \n",
       "409  H410    48.0    43.0    37.0    31.0    32.0    40.0   116.0   164.0   \n",
       "410  H411    38.0    20.0    21.0    21.0    33.0    70.0   162.0   263.0   \n",
       "411  H412    27.0    19.0    14.0    17.0    15.0    23.0    47.0    92.0   \n",
       "412  H413    34.0    26.0    19.0    14.0    14.0    17.0    24.0    23.0   \n",
       "413  H414    15.0    12.0    11.0    17.0    31.0    67.0    76.0    94.0   \n",
       "\n",
       "        V10  ...     V40     V41     V42     V43     V44     V45     V46  \\\n",
       "0     501.0  ...   812.0   836.0   838.0   829.0   807.0   785.0   756.0   \n",
       "1    1952.0  ...  3018.0  3206.0  3356.0  3499.0  3550.0  3558.0  3488.0   \n",
       "2     910.0  ...  1457.0  1529.0  1627.0  1701.0  1754.0  1791.0  1819.0   \n",
       "3    3652.0  ...  5337.0  5675.0  5926.0  6159.0  6313.0  6072.0  5612.0   \n",
       "4    1821.0  ...  2345.0  2529.0  2737.0  3028.0  3292.0  3453.0  3574.0   \n",
       "..      ...  ...     ...     ...     ...     ...     ...     ...     ...   \n",
       "409   135.0  ...   163.0   187.0   180.0   175.0   171.0   170.0   131.0   \n",
       "410   217.0  ...   145.0   170.0   156.0   122.0   116.0    86.0    77.0   \n",
       "411    94.0  ...    80.0    87.0   106.0    79.0    81.0    78.0    54.0   \n",
       "412    19.0  ...    92.0   103.0   108.0   101.0    86.0    99.0    88.0   \n",
       "413    95.0  ...   108.0    79.0   114.0   112.0    93.0    82.0    65.0   \n",
       "\n",
       "        V47     V48     V49  \n",
       "0     719.0   703.0   659.0  \n",
       "1    3224.0  3054.0  2918.0  \n",
       "2    1791.0  1758.0  1679.0  \n",
       "3    5220.0  4895.0  4793.0  \n",
       "4    3522.0  3338.0  3041.0  \n",
       "..      ...     ...     ...  \n",
       "409   124.0   167.0   126.0  \n",
       "410    63.0    62.0    74.0  \n",
       "411    53.0    72.0    40.0  \n",
       "412    47.0    41.0    34.0  \n",
       "413    49.0    37.0    24.0  \n",
       "\n",
       "[414 rows x 49 columns]"
      ]
     },
     "execution_count": 31,
     "metadata": {},
     "output_type": "execute_result"
    }
   ],
   "source": [
    "def create_forecast(lookback,loss,repeat,freq):\n",
    "    logger.error(f\"==================={lookback}-{loss}-{repeat}-{freq}================\")\n",
    "    epoch=M4Meta.iterations[freq] // 10\n",
    "    horizon=M4Meta.horizons_map[freq]\n",
    "    history_size_in_horizons=M4Meta.history_size[freq]\n",
    "    initial_learning_rate = M4Meta.initial_learning_rate[freq]\n",
    "    batch_size=M4Meta.batch_size[freq]\n",
    "    window_sampling_limit=int(history_size_in_horizons*horizon)\n",
    "    insample_size=lookback*horizon\n",
    "    outsample_size=horizon\n",
    "    timeseries,targets=read_data(freq)\n",
    "\n",
    "    train_ds,test_ds=generate_dataset(timeseries,targets,insample_size,outsample_size,window_sampling_limit,batch_size)\n",
    "    x_test=last_insample_window(timeseries,insample_size)\n",
    "    y_test=targets\n",
    "    net=create_model(insample_size, outsample_size)\n",
    "    net,history=trainer(train_ds,test_ds,loss,net,epoch,verbose=2,initial_learning_rate=initial_learning_rate,val_freq=50)\n",
    "\n",
    "    y_pred=net.predict(x_test).reshape(-1,outsample_size)\n",
    "    results=LOSSES[loss](y_test, y_pred)\n",
    "    logger.error(f\"\\t loss in {freq} dataset result in {results}\")\n",
    "    # if results>30:\n",
    "    #     logger.error(f\"encouter large loss,retrain\")\n",
    "    #     create_forecast(lookback, loss, repeat, freq)\n",
    "    return y_pred"
   ]
  },
  {
   "cell_type": "code",
   "execution_count": 32,
   "id": "65e3d71f",
   "metadata": {
    "ExecuteTime": {
     "end_time": "2021-12-09T16:57:37.447981Z",
     "start_time": "2021-12-09T16:57:37.313081Z"
    },
    "scrolled": true
   },
   "outputs": [
    {
     "data": {
      "text/plain": [
       "<AxesSubplot:>"
      ]
     },
     "execution_count": 32,
     "metadata": {},
     "output_type": "execute_result"
    },
    {
     "data": {
      "image/png": "[encoded data removed]",
      "text/plain": [
       "<Figure size 432x288 with 1 Axes>"
      ]
     },
     "metadata": {
      "needs_background": "light"
     },
     "output_type": "display_data"
    }
   ],
   "source": [
    "fre1=\"Yearly\"\n",
    "logger.error(f\"==================={lookback}-{loss}-{repeat}-{freq}================\")\n",
    "epoch=M4Meta.iterations[freq] // 10\n",
    "horizon=M4Meta.horizons_map[freq]\n",
    "history_size_in_horizons=M4Meta.history_size[freq]\n",
    "initial_learning_rate = M4Meta.initial_learning_rate[freq]\n",
    "batch_size=M4Meta.batch_size[freq]\n",
    "window_sampling_limit=int(history_size_in_horizons*horizon)\n",
    "insample_size=lookback*horizon\n",
    "outsample_size=horizon\n",
    "timeseries,targets=read_data(freq)\n",
    "\n",
    "train_ds,test_ds=generate_dataset(timeseries,targets,insample_size,outsample_size,window_sampling_limit,batch_size)"
   ]
  },
  {
   "cell_type": "code",
   "execution_count": 57,
   "id": "7fc11141",
   "metadata": {
    "ExecuteTime": {
     "end_time": "2021-12-09T17:15:37.597001Z",
     "start_time": "2021-12-09T17:15:37.584808Z"
    }
   },
   "outputs": [
    {
     "data": {
      "text/plain": [
       "array([[0, 2, 3, 0],\n",
       "       [1, 1, 0, 3]])"
      ]
     },
     "execution_count": 57,
     "metadata": {},
     "output_type": "execute_result"
    }
   ],
   "source": [
    "next(train_ds.as_numpy_iterator())[0].shape"
   ]
  },
  {
   "cell_type": "code",
   "execution_count": null,
   "id": "807cfcca",
   "metadata": {},
   "outputs": [],
   "source": [
    "\n",
    "x_test=last_insample_window(timeseries,insample_size)\n",
    "y_test=targets\n",
    "net=create_model(insample_size, outsample_size)\n",
    "net,history=trainer(train_ds,test_ds,loss,net,epoch,verbose=2,initial_learning_rate=initial_learning_rate,val_freq=50)\n",
    "\n",
    "y_pred=net.predict(x_test).reshape(-1,outsample_size)\n",
    "results=LOSSES[loss](y_test, y_pred)\n",
    "logger.error(f\"\\t loss in {freq} dataset result in {results}\")"
   ]
  },
  {
   "cell_type": "code",
   "execution_count": null,
   "id": "e14951a8",
   "metadata": {},
   "outputs": [],
   "source": [
    "\n",
    "# losses:MASE,MAPE,SMAPE\n",
    "# loockbacks:2,3,4,5,6,7\n",
    "# repeat 10\n",
    "\n",
    "def experimental(lookback,loss,repeat):\n",
    "    forecasts=[]\n",
    "    for freq in tqdm(M4Meta.seasonal_patterns):\n",
    "    # for freq in ['Daily', 'Hourly']:\n",
    "        forecasts.extend(create_forecast(lookback, loss, repeat, freq))\n",
    "\n",
    "    evaluate_path=Path('./nbeats_result')\n",
    "    forecasts_df = pd.DataFrame(forecasts, columns=[f'V{i + 1}' for i in range(np.max(M4Meta.horizons))])\n",
    "    forecasts_df.index = M4Meta.ids\n",
    "    forecasts_df.index.name = 'id'\n",
    "    forecasts_df.to_csv(evaluate_path/f'{lookback}_{loss}_{repeat}.csv')"
   ]
  },
  {
   "cell_type": "code",
   "execution_count": null,
   "id": "4466629b",
   "metadata": {},
   "outputs": [],
   "source": [
    "%%capture tfout\n",
    "experimental(7, 'smape', 0)"
   ]
  },
  {
   "cell_type": "code",
   "execution_count": null,
   "id": "2d7b2146",
   "metadata": {},
   "outputs": [],
   "source": [
    "lookback=[2,3,4,5,6,7]\n",
    "loss=['smape','mape']\n",
    "# repeat=list(range(10))\n",
    "repeat=[0]\n",
    "for lookback,loss,repeat in tqdm(product(lookback,loss,repeat)):\n",
    "    experimental(lookback,loss,repeat)"
   ]
  },
  {
   "cell_type": "code",
   "execution_count": null,
   "id": "fbaa8036",
   "metadata": {},
   "outputs": [],
   "source": [
    "targets=[]\n",
    "for freq in tqdm(M4Meta.seasonal_patterns):\n",
    "    filename_test = Path('.')/(f'data/Dataset/Test/{freq}-test.csv')\n",
    "    df=pd.read_csv(filename_test)\n",
    "    target=df.drop('V1',axis=1).values.copy(order='C').astype(np.float32)\n",
    "    targets.extend(target)\n",
    "    # for freq in ['Daily', 'Hourly']:\n",
    "targets=np.array(targets,dtype='object')"
   ]
  },
  {
   "cell_type": "code",
   "execution_count": null,
   "id": "bdca8280",
   "metadata": {},
   "outputs": [],
   "source": [
    "evaluate_path=Path('./nbeats_result')\n",
    "result_files=list(evaluate_path.glob(\"**/*.csv\"))\n",
    "ensemble_forecast=(\n",
    "pd.concat([pd.read_csv(file)\n",
    "                      for file in\n",
    "                      tqdm(result_files)], sort=False) \n",
    "  .set_index('id')\n",
    "  .groupby(level='id', sort=False)\n",
    "  .median() \n",
    ")\n",
    "forecast=pd.read_csv(result_files[0]).set_index('id').values.astype(np.float32)"
   ]
  },
  {
   "cell_type": "code",
   "execution_count": null,
   "id": "4f3b58fe",
   "metadata": {},
   "outputs": [],
   "source": []
  },
  {
   "cell_type": "code",
   "execution_count": null,
   "id": "71bfb113",
   "metadata": {},
   "outputs": [],
   "source": [
    "evaluate_result(forecast,targets)"
   ]
  },
  {
   "cell_type": "code",
   "execution_count": null,
   "id": "4b0625c0",
   "metadata": {},
   "outputs": [],
   "source": [
    "dfs=[]\n",
    "for freq in ['Daily', 'Hourly']:\n",
    "    timeseries,targets=read_data(freq)\n",
    "    df=pd.DataFrame(timeseries)\n",
    "    dfs.append(df)\n",
    "\n",
    "pd.concat(dfs).mean(axis=1).describe()"
   ]
  },
  {
   "cell_type": "code",
   "execution_count": null,
   "id": "50d35a6e",
   "metadata": {},
   "outputs": [],
   "source": []
  },
  {
   "cell_type": "code",
   "execution_count": null,
   "id": "fa30d04e",
   "metadata": {},
   "outputs": [],
   "source": [
    "\n",
    "# net.save_weights(model_path)\n",
    "# _net = NBeatsNet(\n",
    "#     # stack_types=(NBeatsNet.GENERIC_BLOCK, NBeatsNet.GENERIC_BLOCK),\n",
    "#     stack_types=(NBeatsNet.TREND_BLOCK, NBeatsNet.SEASONALITY_BLOCK),\n",
    "#     nb_blocks_per_stack=3,\n",
    "#     forecast_length=outsample_size,\n",
    "#     backcast_length=insample_size,\n",
    "#     hidden_layer_units=512,\n",
    "#     thetas_dim=(4,4),\n",
    "#     share_weights_in_stack=True,\n",
    "#     nb_harmonics=1\n",
    "#     )\n",
    "\n",
    "# _net.load_weights(model_path)\n",
    "# weights=_net.get_weights()\n",
    "\n",
    "# _net.set_weights(weights)\n",
    "\n",
    "# np.testing.assert_almost_equal(\n",
    "# _net.predict(x_test),\n",
    "# net.predict(x_test),\n",
    "# )"
   ]
  },
  {
   "cell_type": "code",
   "execution_count": null,
   "id": "3d0d1a19",
   "metadata": {},
   "outputs": [],
   "source": [
    "from loguru import logger\n",
    "logger.add(\"file_{time}.log\",level=\"ERROR\")"
   ]
  },
  {
   "cell_type": "code",
   "execution_count": 3,
   "id": "afcd86b9",
   "metadata": {
    "ExecuteTime": {
     "end_time": "2021-12-16T08:47:32.464442Z",
     "start_time": "2021-12-16T08:47:32.459254Z"
    }
   },
   "outputs": [],
   "source": [
    "p_degree=3\n",
    "pv=tf.reshape(tf.range(p_degree + 1, dtype='float32'), shape=(-1, 1))"
   ]
  },
  {
   "cell_type": "code",
   "execution_count": 14,
   "id": "73657072",
   "metadata": {
    "ExecuteTime": {
     "end_time": "2021-12-16T08:50:35.919664Z",
     "start_time": "2021-12-16T08:50:35.915388Z"
    }
   },
   "outputs": [
    {
     "data": {
      "text/plain": [
       "TensorShape([4, 1])"
      ]
     },
     "execution_count": 14,
     "metadata": {},
     "output_type": "execute_result"
    }
   ],
   "source": [
    "pv.shape"
   ]
  },
  {
   "cell_type": "code",
   "execution_count": 5,
   "id": "508faf91",
   "metadata": {
    "ExecuteTime": {
     "end_time": "2021-12-16T08:47:48.504428Z",
     "start_time": "2021-12-16T08:47:48.458589Z"
    }
   },
   "outputs": [
    {
     "data": {
      "text/plain": [
       "<tf.Tensor: shape=(4, 10), dtype=float32, numpy=\n",
       "array([[  1.,   1.,   1.,   1.,   1.,   1.,   1.,   1.,   1.,   1.],\n",
       "       [  0.,   1.,   2.,   3.,   4.,   5.,   6.,   7.,   8.,   9.],\n",
       "       [  0.,   1.,   4.,   9.,  16.,  25.,  36.,  49.,  64.,  81.],\n",
       "       [  0.,   1.,   8.,  27.,  64., 125., 216., 343., 512., 729.]],\n",
       "      dtype=float32)>"
      ]
     },
     "execution_count": 5,
     "metadata": {},
     "output_type": "execute_result"
    }
   ],
   "source": [
    "tf.range(10.0)**pv"
   ]
  }
 ],
 "metadata": {
  "kernelspec": {
   "display_name": "Python 3 (ipykernel)",
   "language": "python",
   "name": "python3"
  },
  "language_info": {
   "codemirror_mode": {
    "name": "ipython",
    "version": 3
   },
   "file_extension": ".py",
   "mimetype": "text/x-python",
   "name": "python",
   "nbconvert_exporter": "python",
   "pygments_lexer": "ipython3",
   "version": "3.8.8"
  },
  "notify_time": "5",
  "toc": {
   "base_numbering": 1,
   "nav_menu": {},
   "number_sections": true,
   "sideBar": true,
   "skip_h1_title": false,
   "title_cell": "Table of Contents",
   "title_sidebar": "Contents",
   "toc_cell": false,
   "toc_position": {},
   "toc_section_display": true,
   "toc_window_display": false
  },
  "varInspector": {
   "cols": {
    "lenName": 16,
    "lenType": 16,
    "lenVar": 40
   },
   "kernels_config": {
    "python": {
     "delete_cmd_postfix": "",
     "delete_cmd_prefix": "del ",
     "library": "var_list.py",
     "varRefreshCmd": "print(var_dic_list())"
    },
    "r": {
     "delete_cmd_postfix": ") ",
     "delete_cmd_prefix": "rm(",
     "library": "var_list.r",
     "varRefreshCmd": "cat(var_dic_list()) "
    }
   },
   "types_to_exclude": [
    "module",
    "function",
    "builtin_function_or_method",
    "instance",
    "_Feature"
   ],
   "window_display": false
  }
 },
 "nbformat": 4,
 "nbformat_minor": 5
}
